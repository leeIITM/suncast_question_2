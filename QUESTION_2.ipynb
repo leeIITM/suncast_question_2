{
 "cells": [
  {
   "cell_type": "code",
   "execution_count": 1,
   "id": "6f7d6d41",
   "metadata": {},
   "outputs": [],
   "source": [
    "import cv2\n",
    "import numpy as np\n",
    "\n",
    "#reading the image\n",
    "image1 = cv2.imread(\"/home/ae23b102/AI/images/July_spots.jpg\")\n",
    "\n",
    "# Cropping the border of the image with width 50 pixels to avoid the letter\n",
    "cropped_image = image1[25:-25, 25:-25]  \n",
    "\n",
    "# converting to grayscale image\n",
    "gray_image = cv2.cvtColor(cropped_image, cv2.COLOR_BGR2GRAY)\n",
    "\n",
    "# Applying Canny edge detection\n",
    "edges = cv2.Canny(gray_image, 30, 200)\n",
    "\n",
    "# Finding contours in the edges detected\n",
    "contours, _ = cv2.findContours(edges, cv2.RETR_EXTERNAL, cv2.CHAIN_APPROX_SIMPLE)\n",
    "\n",
    "# Analyzing and drawing rectangles around remaining contours\n",
    "for contour in contours:\n",
    "  x, y, w, h = cv2.boundingRect(contour)\n",
    "  # Filter out rectangles with area greater than 50 pixels\n",
    "  if w * h <= 1000:\n",
    "      cv2.rectangle(cropped_image, (x, y), (x + w, y + h), (0, 255, 0), 2)\n",
    "\n",
    "# Displaying the image with detected sunspots on the cropped area\n",
    "cv2.imshow('Detected sunspots', cropped_image)\n",
    "\n",
    "# Wait for a key press and close the window\n",
    "if cv2.waitKey(0) & 0xFF == 27:\n",
    "  cv2.destroyAllWindows()"
   ]
  },
  {
   "cell_type": "code",
   "execution_count": null,
   "id": "13cf2c72",
   "metadata": {},
   "outputs": [],
   "source": []
  }
 ],
 "metadata": {
  "kernelspec": {
   "display_name": "Python 3 (ipykernel)",
   "language": "python",
   "name": "python3"
  },
  "language_info": {
   "codemirror_mode": {
    "name": "ipython",
    "version": 3
   },
   "file_extension": ".py",
   "mimetype": "text/x-python",
   "name": "python",
   "nbconvert_exporter": "python",
   "pygments_lexer": "ipython3",
   "version": "3.10.12"
  }
 },
 "nbformat": 4,
 "nbformat_minor": 5
}
